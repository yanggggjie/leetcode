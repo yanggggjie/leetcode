{
 "cells": [
  {
   "cell_type": "code",
   "execution_count": null,
   "metadata": {
    "collapsed": true
   },
   "outputs": [],
   "source": [
    "# 11. 盛最多水的容器\n",
    "class Solution:\n",
    "    def maxArea(self, height: list[int]) -> int:\n",
    "        # 思路很简单：首先我们假定从两端开始算，那么容器的底就是最大的，然后从两端开始向中间遍历\n",
    "        # 因为我们的底已经是最大的了，那么向中间遍历一定会导致底变小，这时我们需要保证高变大才行\n",
    "        # 怎么使得高变大呢 高取决于两边中小的那一边，因此让小的那一边变大就好了\n",
    "        l = 0\n",
    "        r = len(height) - 1\n",
    "        left = height[0]\n",
    "        right = height[-1]\n",
    "        max_v = min(left, right) * (r - l)\n",
    "\n",
    "        while l < r:\n",
    "            if left < right:\n",
    "                while height[l] <= left and l < r:\n",
    "                    l += 1\n",
    "                left = height[l]\n",
    "                max_v_temp = min(left, right) * (r - l)\n",
    "                max_v = max(max_v, max_v_temp)\n",
    "\n",
    "            else:\n",
    "                while height[r] <= right and l < r:\n",
    "                    r -= 1\n",
    "                right = height[r]\n",
    "                max_v_temp = min(left, right) * (r - l)\n",
    "                max_v = max(max_v, max_v_temp)\n",
    "        return max_v"
   ]
  },
  {
   "cell_type": "code",
   "execution_count": null,
   "metadata": {
    "collapsed": false,
    "pycharm": {
     "name": "#%%\n"
    }
   },
   "outputs": [],
   "source": [
    "# 12. 整数转罗马数字\n",
    "class Solution:\n",
    "    def intToRoman(self, num: int) -> str:\n",
    "        # 思路：类型不算多，先列出所有可能的字典\n",
    "        roman_int_dict = {'I': 1, 'IV': 4, 'V': 5, 'IX': 9, 'X': 10, 'XL': 40, 'L': 50, 'XC': 90,\n",
    "                          'C': 100, 'CD': 400, 'D': 500, 'CM': 900, 'M': 1000}\n",
    "        # 从大到小进行求余来转换\n",
    "        res = ''\n",
    "        for item in list(roman_int_dict.items())[::-1]:\n",
    "            roman, inte = item\n",
    "            div, num = divmod(num, inte)\n",
    "            res += div * roman\n",
    "        return res\n"
   ]
  },
  {
   "cell_type": "code",
   "execution_count": null,
   "metadata": {
    "collapsed": false,
    "pycharm": {
     "name": "#%%\n"
    }
   },
   "outputs": [],
   "source": [
    "# 13. 罗马数字转整数\n",
    "class Solution:\n",
    "    def romanToInt(self, s: str) -> int:\n",
    "        #思路：类型不算多，先列出所有可能的字典\n",
    "        roman_int_dict = {'I': 1, 'IV': 4, 'V': 5, 'IX': 9, 'X': 10, 'XL': 40, 'L': 50, 'XC': 90,\n",
    "                          'C': 100, 'CD': 400, 'D': 500, 'CM': 900, 'M': 1000}\n",
    "        # 因为最长表示就是两位，可以从左往右，先看两位匹配不，不匹配再看一位\n",
    "        res = 0\n",
    "        for i in range(len(s)):\n",
    "            if s[i:i + 2] in roman_int_dict:\n",
    "                res += roman_int_dict[s[i:i + 2]]\n",
    "            else:\n",
    "                res += roman_int_dict[s[i]]\n",
    "        return res"
   ]
  },
  {
   "cell_type": "code",
   "execution_count": null,
   "metadata": {
    "collapsed": false,
    "pycharm": {
     "name": "#%%\n"
    }
   },
   "outputs": [],
   "source": [
    "# 14. 最长公共前缀\n",
    "class Solution:\n",
    "    def longestCommonPrefix(self, strs: list[str]) -> str:\n",
    "        # 思路：遍历所有的字符串看与第一个字符串有多少公共前缀就是答案\n",
    "        if not strs:\n",
    "            return \"\"\n",
    "        first_str = strs[0]\n",
    "        i = 1\n",
    "        while i < len(strs):\n",
    "            # 利用find==0来确定是前缀，很聪明\n",
    "            while strs[i].find(first_str) != 0:\n",
    "                # 如果不是前缀就缩短\n",
    "                first_str = first_str[0:-1]\n",
    "            i += 1\n",
    "        return first_str\n",
    "\n",
    "\n",
    "s = Solution()\n",
    "print(s.longestCommonPrefix([\"a\"]))"
   ]
  },
  {
   "cell_type": "code",
   "execution_count": null,
   "metadata": {
    "collapsed": false,
    "pycharm": {
     "name": "#%%\n"
    }
   },
   "outputs": [],
   "source": [
    "# 15. 三数之和\n",
    "class Solution:\n",
    "    def threeSum(self, nums: list[int]) -> list[list[int]]:\n",
    "        # 思路：很简单，排序加上双指针，排序的目的是便于判断和的大小\n",
    "        # 首先我们需要排序这样数组就是从小到大了，把三数之和变成两数之和，也就是固定一位nums[i]\n",
    "        # 剩下的区域我们要选出两个数，我们可以用双指针一个l指向i+1 r指向n-1 循环看和的值\n",
    "        # 如果和的值小于0的话那么左指针进行右移这样使得和增大，如果和大于0的话那么右指针右移使得和减小\n",
    "        # 如果和大于0 然后l也大于0的话 那就没有移动的必要了 同理如果r小于0的话 也没有移动的必要\n",
    "        res = []\n",
    "        sorted(nums)\n",
    "        for i in range(len(nums) - 2):\n",
    "            l = i + 1\n",
    "            r = len(nums) - 1\n",
    "            the_sum = sum(nums[i] + nums[l] + nums[r])\n",
    "            while l < r and the_sum < 0:\n",
    "                l += 1\n",
    "                the_sum = sum(nums[i] + nums[l] + nums[r])\n",
    "            while l < r and the_sum > 0:\n",
    "                r -= 1\n",
    "                the_sum = sum(nums[i] + nums[l] + nums[r])\n",
    "            if the_sum == 0:\n",
    "                res.append([nums[i] + nums[l] + nums[r]])\n",
    "\n",
    "\n"
   ]
  },
  {
   "cell_type": "code",
   "execution_count": null,
   "metadata": {
    "collapsed": false,
    "pycharm": {
     "name": "#%%\n"
    }
   },
   "outputs": [],
   "source": [
    "# 16. 最接近的三数之和\n",
    "class Solution:\n",
    "    def threeSumClosest(self, nums: List[int], target: int) -> int:\n",
    "        很难，不会，哭哭"
   ]
  },
  {
   "cell_type": "code",
   "execution_count": null,
   "metadata": {
    "collapsed": false,
    "pycharm": {
     "name": "#%%\n"
    }
   },
   "outputs": [],
   "source": [
    "# 17. 电话号码的字母组合\n",
    "class Solution:\n",
    "    def letterCombinations(self, digits):\n",
    "        # 组合问题,可以用回溯\n",
    "        # 先生成数字 字母的字典\n",
    "        digit_alpha = {\n",
    "            '2': 'abc',\n",
    "            '3': 'def',\n",
    "            '4': 'ghi',\n",
    "            '5': 'jkl',\n",
    "            '6': 'mno',\n",
    "            '7': 'pqrs',\n",
    "            '8': 'tuv',\n",
    "            '9': 'wxyz'\n",
    "        }\n",
    "        res = []\n",
    "        # 判断特殊情况\n",
    "        if len(digits) == 0:\n",
    "            return res\n",
    "        # 回溯\n",
    "\n",
    "        def traceback(digits, depth, path):\n",
    "            if depth == len(digits):\n",
    "                res.append(path)\n",
    "                return\n",
    "            else:\n",
    "                for alpha in digit_alpha[digits[depth]]:\n",
    "                    # 访问当前节点\n",
    "                    path.append(alpha)\n",
    "                    depth += 1\n",
    "                    # 访问子节点\n",
    "                    traceback(digits, depth, path)\n",
    "                    # 撤销访问当前节点\n",
    "                    path.pop(-1)\n",
    "                    depth -= 1\n",
    "        traceback(digits, 0, [])\n",
    "        return res"
   ]
  },
  {
   "cell_type": "markdown",
   "metadata": {
    "collapsed": false
   },
   "source": [
    "# 回溯专题"
   ]
  },
  {
   "cell_type": "code",
   "execution_count": null,
   "metadata": {
    "collapsed": false,
    "pycharm": {
     "name": "#%%\n"
    }
   },
   "outputs": [],
   "source": [
    "# 22. 括号生成\n",
    "class Solution:\n",
    "    def generateParenthesis(self, n: int) -> list[str]:\n",
    "        # 思路：利用回溯法生成所有可能，然后再判断每种可能是否可行\n",
    "        res = []\n",
    "\n",
    "        def valid(string):\n",
    "            stack = []\n",
    "            for ch in string:\n",
    "                if ch == '(':\n",
    "                    stack.append(ch)\n",
    "                else:\n",
    "                    if stack:\n",
    "                        if stack[-1] == '(':\n",
    "                            stack.pop(-1)\n",
    "                    else:\n",
    "                        return False\n",
    "            return len(stack) == 0\n",
    "\n",
    "        def traceback(depth, path):\n",
    "            if depth == 2*n:\n",
    "                if valid(path):\n",
    "                    s_path = ''.join(path)\n",
    "                    res.append(s_path)\n",
    "                return\n",
    "            else:\n",
    "                for ch in '()':\n",
    "                    path.append(ch)\n",
    "                    depth += 1\n",
    "                    traceback(depth, path)\n",
    "                    path.pop(-1)\n",
    "                    depth -= 1\n",
    "        traceback(0, [])\n",
    "        return res\n"
   ]
  },
  {
   "cell_type": "code",
   "execution_count": null,
   "metadata": {},
   "outputs": [],
   "source": [
    "# 39. 组合总和\n",
    "class Solution:\n",
    "    def combinationSum(self, candidates: list[int], target: int) -> list[list[int]]:\n",
    "        \n"
   ]
  }
 ],
 "metadata": {
  "kernelspec": {
   "display_name": "Python 3",
   "language": "python",
   "name": "python3"
  },
  "language_info": {
   "codemirror_mode": {
    "name": "ipython",
    "version": 2
   },
   "file_extension": ".py",
   "mimetype": "text/x-python",
   "name": "python",
   "nbconvert_exporter": "python",
   "pygments_lexer": "ipython2",
   "version": "2.7.6"
  }
 },
 "nbformat": 4,
 "nbformat_minor": 0
}
