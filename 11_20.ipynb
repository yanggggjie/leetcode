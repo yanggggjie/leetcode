{
 "cells": [
  {
   "cell_type": "code",
   "execution_count": null,
   "metadata": {
    "collapsed": true
   },
   "outputs": [],
   "source": [
    "# 11. 盛最多水的容器\n",
    "class Solution:\n",
    "    def maxArea(self, height: list[int]) -> int:\n",
    "        # 思路很简单：首先我们假定从两端开始算，那么容器的底就是最大的，然后从两端开始向中间遍历\n",
    "        # 因为我们的底已经是最大的了，那么向中间遍历一定会导致底变小，这时我们需要保证高变大才行\n",
    "        # 怎么使得高变大呢 高取决于两边中小的那一边，因此让小的那一边变大就好了\n",
    "        l = 0\n",
    "        r = len(height) - 1\n",
    "        left = height[0]\n",
    "        right = height[-1]\n",
    "        max_v = min(left, right) * (r - l)\n",
    "\n",
    "        while l < r:\n",
    "            if left < right:\n",
    "                while height[l] <= left and l < r:\n",
    "                    l += 1\n",
    "                left = height[l]\n",
    "                max_v_temp = min(left, right) * (r - l)\n",
    "                max_v = max(max_v, max_v_temp)\n",
    "\n",
    "            else:\n",
    "                while height[r] <= right and l < r:\n",
    "                    r -= 1\n",
    "                right = height[r]\n",
    "                max_v_temp = min(left, right) * (r - l)\n",
    "                max_v = max(max_v, max_v_temp)\n",
    "        return max_v"
   ]
  },
  {
   "cell_type": "code",
   "execution_count": null,
   "outputs": [],
   "source": [
    "# 12. 整数转罗马数字\n",
    "class Solution:\n",
    "    def intToRoman(self, num: int) -> str:\n",
    "        # 思路：类型不算多，先列出所有可能的字典\n",
    "        roman_int_dict = {'I': 1, 'IV': 4, 'V': 5, 'IX': 9, 'X': 10, 'XL': 40, 'L': 50, 'XC': 90,\n",
    "                          'C': 100, 'CD': 400, 'D': 500, 'CM': 900, 'M': 1000}\n",
    "        # 从大到小进行求余来转换\n",
    "        res = ''\n",
    "        for item in list(roman_int_dict.items())[::-1]:\n",
    "            roman, inte = item\n",
    "            div, num = divmod(num, inte)\n",
    "            res += div * roman\n",
    "        return res\n"
   ],
   "metadata": {
    "collapsed": false,
    "pycharm": {
     "name": "#%%\n"
    }
   }
  },
  {
   "cell_type": "code",
   "execution_count": null,
   "outputs": [],
   "source": [
    "# 13. 罗马数字转整数\n",
    "class Solution:\n",
    "    def romanToInt(self, s: str) -> int:\n",
    "        #思路：类型不算多，先列出所有可能的字典\n",
    "        roman_int_dict = {'I': 1, 'IV': 4, 'V': 5, 'IX': 9, 'X': 10, 'XL': 40, 'L': 50, 'XC': 90,\n",
    "                          'C': 100, 'CD': 400, 'D': 500, 'CM': 900, 'M': 1000}\n",
    "        # 因为最长表示就是两位，可以从左往右，先看两位匹配不，不匹配再看一位\n",
    "        res = 0\n",
    "        for i in range(len(s)):\n",
    "            if s[i:i + 2] in roman_int_dict:\n",
    "                res += roman_int_dict[s[i:i + 2]]\n",
    "            else:\n",
    "                res += roman_int_dict[s[i]]\n",
    "        return res"
   ],
   "metadata": {
    "collapsed": false,
    "pycharm": {
     "name": "#%%\n"
    }
   }
  },
  {
   "cell_type": "code",
   "execution_count": null,
   "outputs": [],
   "source": [
    "# 14. 最长公共前缀\n",
    "class Solution:\n",
    "    简单题都没做出来！！！\n",
    "    def longestCommonPrefix(self, strs: list[str]) -> str:\n",
    "        # 思路：把str放成一列，用一个index i进行遍历，满足继续i+=1 不满足就是结果\n",
    "        # 先找到最短字符串\n",
    "        min_length = float('inf')\n",
    "        for s in strs:\n",
    "            min_length = min(len(s), min_length)\n",
    "\n",
    "        if min_length == 0:\n",
    "            return \"\"\n",
    "\n",
    "        i = 1\n",
    "        while i <= min_length:\n",
    "            for j in range(1, len(strs)):\n",
    "                if strs[0][:i] != strs[j][:i]:\n",
    "                    return strs[0][:i-1]\n",
    "            i += 1\n",
    "s = Solution()\n",
    "print(s.longestCommonPrefix([\"a\"]))\n"
   ],
   "metadata": {
    "collapsed": false,
    "pycharm": {
     "name": "#%%\n"
    }
   }
  }
 ],
 "metadata": {
  "kernelspec": {
   "display_name": "Python 3",
   "language": "python",
   "name": "python3"
  },
  "language_info": {
   "codemirror_mode": {
    "name": "ipython",
    "version": 2
   },
   "file_extension": ".py",
   "mimetype": "text/x-python",
   "name": "python",
   "nbconvert_exporter": "python",
   "pygments_lexer": "ipython2",
   "version": "2.7.6"
  }
 },
 "nbformat": 4,
 "nbformat_minor": 0
}