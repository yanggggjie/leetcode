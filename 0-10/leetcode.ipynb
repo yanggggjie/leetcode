{
 "cells": [
  {
   "cell_type": "code",
   "execution_count": 1,
   "metadata": {
    "collapsed": true
   },
   "outputs": [
    {
     "ename": "TypeError",
     "evalue": "'type' object is not subscriptable",
     "output_type": "error",
     "traceback": [
      "\u001B[1;31m---------------------------------------------------------------------------\u001B[0m",
      "\u001B[1;31mTypeError\u001B[0m                                 Traceback (most recent call last)",
      "\u001B[1;32m<ipython-input-1-d7871e84b4fa>\u001B[0m in \u001B[0;36m<module>\u001B[1;34m\u001B[0m\n\u001B[0;32m      1\u001B[0m \u001B[1;31m# 第一题两数之和\u001B[0m\u001B[1;33m\u001B[0m\u001B[1;33m\u001B[0m\u001B[1;33m\u001B[0m\u001B[0m\n\u001B[1;32m----> 2\u001B[1;33m \u001B[1;32mclass\u001B[0m \u001B[0mSolution\u001B[0m\u001B[1;33m:\u001B[0m\u001B[1;33m\u001B[0m\u001B[1;33m\u001B[0m\u001B[0m\n\u001B[0m\u001B[0;32m      3\u001B[0m     \u001B[1;32mdef\u001B[0m \u001B[0mtwoSum\u001B[0m\u001B[1;33m(\u001B[0m\u001B[0mself\u001B[0m\u001B[1;33m,\u001B[0m \u001B[0mnums\u001B[0m\u001B[1;33m:\u001B[0m \u001B[0mlist\u001B[0m\u001B[1;33m[\u001B[0m\u001B[0mint\u001B[0m\u001B[1;33m]\u001B[0m\u001B[1;33m,\u001B[0m \u001B[0mtarget\u001B[0m\u001B[1;33m:\u001B[0m \u001B[0mint\u001B[0m\u001B[1;33m)\u001B[0m \u001B[1;33m->\u001B[0m \u001B[0mlist\u001B[0m\u001B[1;33m[\u001B[0m\u001B[0mint\u001B[0m\u001B[1;33m]\u001B[0m\u001B[1;33m:\u001B[0m\u001B[1;33m\u001B[0m\u001B[1;33m\u001B[0m\u001B[0m\n\u001B[0;32m      4\u001B[0m         \u001B[1;31m# 思路：第一层for循环先遇到这个数，然后减去这个数得到target_left\u001B[0m\u001B[1;33m\u001B[0m\u001B[1;33m\u001B[0m\u001B[1;33m\u001B[0m\u001B[0m\n\u001B[0;32m      5\u001B[0m         \u001B[1;31m# 第二层for循环在剩下的数中找到与target_left相等的数就好\u001B[0m\u001B[1;33m\u001B[0m\u001B[1;33m\u001B[0m\u001B[1;33m\u001B[0m\u001B[0m\n",
      "\u001B[1;32m<ipython-input-1-d7871e84b4fa>\u001B[0m in \u001B[0;36mSolution\u001B[1;34m()\u001B[0m\n\u001B[0;32m      1\u001B[0m \u001B[1;31m# 第一题两数之和\u001B[0m\u001B[1;33m\u001B[0m\u001B[1;33m\u001B[0m\u001B[1;33m\u001B[0m\u001B[0m\n\u001B[0;32m      2\u001B[0m \u001B[1;32mclass\u001B[0m \u001B[0mSolution\u001B[0m\u001B[1;33m:\u001B[0m\u001B[1;33m\u001B[0m\u001B[1;33m\u001B[0m\u001B[0m\n\u001B[1;32m----> 3\u001B[1;33m     \u001B[1;32mdef\u001B[0m \u001B[0mtwoSum\u001B[0m\u001B[1;33m(\u001B[0m\u001B[0mself\u001B[0m\u001B[1;33m,\u001B[0m \u001B[0mnums\u001B[0m\u001B[1;33m:\u001B[0m \u001B[0mlist\u001B[0m\u001B[1;33m[\u001B[0m\u001B[0mint\u001B[0m\u001B[1;33m]\u001B[0m\u001B[1;33m,\u001B[0m \u001B[0mtarget\u001B[0m\u001B[1;33m:\u001B[0m \u001B[0mint\u001B[0m\u001B[1;33m)\u001B[0m \u001B[1;33m->\u001B[0m \u001B[0mlist\u001B[0m\u001B[1;33m[\u001B[0m\u001B[0mint\u001B[0m\u001B[1;33m]\u001B[0m\u001B[1;33m:\u001B[0m\u001B[1;33m\u001B[0m\u001B[1;33m\u001B[0m\u001B[0m\n\u001B[0m\u001B[0;32m      4\u001B[0m         \u001B[1;31m# 思路：第一层for循环先遇到这个数，然后减去这个数得到target_left\u001B[0m\u001B[1;33m\u001B[0m\u001B[1;33m\u001B[0m\u001B[1;33m\u001B[0m\u001B[0m\n\u001B[0;32m      5\u001B[0m         \u001B[1;31m# 第二层for循环在剩下的数中找到与target_left相等的数就好\u001B[0m\u001B[1;33m\u001B[0m\u001B[1;33m\u001B[0m\u001B[1;33m\u001B[0m\u001B[0m\n",
      "\u001B[1;31mTypeError\u001B[0m: 'type' object is not subscriptable"
     ]
    }
   ],
   "source": [
    "# 第一题 两数之和\n",
    "class Solution:\n",
    "    def twoSum(self, nums, target):\n",
    "        # 思路：第一层for循环先遇到这个数，然后减去这个数得到target_left\n",
    "        # 第二层for循环在剩下的数中找到与target_left相等的数就好\n",
    "        # 空间复杂度为1 时间复杂度为n2\n",
    "        for i in range(len(nums)):\n",
    "            target_left = target - nums[i]\n",
    "            for j in range(i + 1, len(nums)):\n",
    "                if target_left == nums[j]:\n",
    "                    return [i, j]"
   ]
  },
  {
   "cell_type": "code",
   "execution_count": null,
   "outputs": [],
   "source": [
    "# 第二题 两数相加\n",
    "Definition for singly-linked list.\n",
    "class ListNode:\n",
    "    def __init__(self, val=0, next=None):\n",
    "        self.val = val\n",
    "        self.next = next\n",
    "\n",
    "\n",
    "class Solution:\n",
    "    def addTwoNumbers(self, l1: ListNode, l2: ListNode) -> ListNode:\n",
    "        # 思路：因为是逆序的我们可以从前加到后（这反而减小了难度），所以关键在于要考虑到进位的问题\n",
    "        # l_sum先指向一个哑节点\n",
    "        head = ListNode()\n",
    "        l_sum = head\n",
    "        carry_bit = 0\n",
    "\n",
    "        # l1和l2同时存在的区域，双链区域\n",
    "        while l1 and l2:\n",
    "            # l1+l2+carry_bit结果，取出本位和进位\n",
    "            carry_bit, this_bit = divmod((l1.val + l2.val + carry_bit), 10)\n",
    "            # l1 l2进行更新\n",
    "            l1 = l1.next\n",
    "            l2 = l2.next\n",
    "            # 本位用于创建结点\n",
    "            l_sum.next = ListNode(val=this_bit)\n",
    "            # l_sum进行更新\n",
    "            l_sum = l_sum.next\n",
    "            # 进位用于下次循环\n",
    "\n",
    "        # 单链区域\n",
    "        while l1:\n",
    "            carry_bit, this_bit = divmod((l1.val + carry_bit), 10)\n",
    "            l1 = l1.next\n",
    "            l_sum.next = ListNode(val=this_bit)\n",
    "            l_sum = l_sum.next\n",
    "        while l2:\n",
    "            carry_bit, this_bit = divmod((l2.val + carry_bit), 10)\n",
    "            l2 = l2.next\n",
    "            l_sum.next = ListNode(val=this_bit)\n",
    "            l_sum = l_sum.next\n",
    "        if carry_bit != 0:\n",
    "            l_sum.next = ListNode(val=carry_bit)\n",
    "\n",
    "        return head.next"
   ],
   "metadata": {
    "collapsed": false,
    "pycharm": {
     "name": "#%%\n"
    }
   }
  }
 ],
 "metadata": {
  "kernelspec": {
   "display_name": "Python 3",
   "language": "python",
   "name": "python3"
  },
  "language_info": {
   "codemirror_mode": {
    "name": "ipython",
    "version": 2
   },
   "file_extension": ".py",
   "mimetype": "text/x-python",
   "name": "python",
   "nbconvert_exporter": "python",
   "pygments_lexer": "ipython2",
   "version": "2.7.6"
  }
 },
 "nbformat": 4,
 "nbformat_minor": 0
}