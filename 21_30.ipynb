{
 "cells": [
  {
   "cell_type": "code",
   "execution_count": null,
   "metadata": {
    "collapsed": true
   },
   "outputs": [],
   "source": [
    "# 21. 合并两个有序链表\n",
    "# Definition for singly-linked list.\n",
    "# class ListNode:\n",
    "#     def __init__(self, val=0, next=None):\n",
    "#         self.val = val\n",
    "#         self.next = next\n",
    "\n",
    "\n",
    "class Solution:\n",
    "    def mergeTwoLists(self, l1: ListNode, l2: ListNode) -> ListNode:\n",
    "        # 思路：分为两个阶段，双链阶段，就是两个链都存在，然后是单链阶段\n",
    "        # 添加一个哑节点，用于临时储存\n",
    "        head = ListNode()\n",
    "\n",
    "        l = head\n",
    "        while l1 and l2:\n",
    "            # 选取双链中小的接在后面\n",
    "            if l1.val < l2.val:\n",
    "                l.next = l1\n",
    "                l1 = l1.next\n",
    "            else:\n",
    "                l.next = l2\n",
    "                l2 = l2.next\n",
    "            l = l.next\n",
    "        # 单链阶段\n",
    "        if l1:\n",
    "            l.next = l1\n",
    "        if l2:\n",
    "            l.next = l2\n",
    "        return head.next"
   ]
  },
  {
   "cell_type": "code",
   "execution_count": null,
   "outputs": [],
   "source": [
    "# 22. 括号生成\n",
    "class Solution:\n",
    "    def generateParenthesis(self, n: int) -> list[str]:\n",
    "        # 因为n是不确定的，无法用循环，只能用递归的方法，这个需要全部序列，所有用回溯\n",
    "        res = []\n",
    "\n",
    "        def is_valid(string):\n",
    "            stack = []\n",
    "            for ch in string:\n",
    "                if ch == '(':\n",
    "                    stack.append(ch)\n",
    "                else:\n",
    "                    if stack:\n",
    "                        if stack.pop(-1) != '(':\n",
    "                            return False\n",
    "                    else:\n",
    "                        return False\n",
    "            if len(stack) == 0:\n",
    "                return True\n",
    "            else:\n",
    "                return False\n",
    "\n",
    "        def traceback(n, depth, path):\n",
    "            if depth == n:\n",
    "                temp_s = ''.join(path)\n",
    "                if is_valid(temp_s):\n",
    "                    res.append(temp_s)\n",
    "                return\n",
    "            else:\n",
    "                for ch in '()':\n",
    "                    path.append(ch)\n",
    "                    depth += 1\n",
    "                    traceback(n, depth, path)\n",
    "                    depth -= 1\n",
    "                    path.pop(-1)\n",
    "\n",
    "        traceback(2 * n, 0, [])\n",
    "        return res"
   ],
   "metadata": {
    "collapsed": false,
    "pycharm": {
     "name": "#%%\n"
    }
   }
  },
  {
   "cell_type": "code",
   "execution_count": null,
   "outputs": [],
   "source": [
    "# 23. 合并K个升序链表\n",
    "# Definition for singly-linked list.\n",
    "# class ListNode:\n",
    "#     def __init__(self, val=0, next=None):\n",
    "#         self.val = val\n",
    "#         self.next = next\n",
    "class Solution:\n",
    "    def mergeKLists(self, lists: list[ListNode]) -> ListNode:\n",
    "        # 思路：前面我们合并了2个升序列表，现在要合并n个，那么采用分治法合并n-1次就好了\n",
    "        # 这里直接暴力法，把列表元素都拿出来，然后排序，然后再生成新的列表\n",
    "        vals = []\n",
    "        for ls in lists:\n",
    "            while ls:\n",
    "                vals.append(ls.val)\n",
    "                ls = ls.next\n",
    "        vals = sorted(vals)\n",
    "        head = ListNode()\n",
    "        node = head\n",
    "        for val in vals:\n",
    "            temp_node = ListNode(val)\n",
    "            node.next = temp_node\n",
    "            node = node.next\n",
    "        return head.next"
   ],
   "metadata": {
    "collapsed": false,
    "pycharm": {
     "name": "#%%\n"
    }
   }
  },
  {
   "cell_type": "code",
   "execution_count": null,
   "outputs": [],
   "source": [],
   "metadata": {
    "collapsed": false,
    "pycharm": {
     "name": "#%%\n"
    }
   }
  }
 ],
 "metadata": {
  "kernelspec": {
   "display_name": "Python 3",
   "language": "python",
   "name": "python3"
  },
  "language_info": {
   "codemirror_mode": {
    "name": "ipython",
    "version": 2
   },
   "file_extension": ".py",
   "mimetype": "text/x-python",
   "name": "python",
   "nbconvert_exporter": "python",
   "pygments_lexer": "ipython2",
   "version": "2.7.6"
  }
 },
 "nbformat": 4,
 "nbformat_minor": 0
}