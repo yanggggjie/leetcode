{
 "cells": [
  {
   "cell_type": "code",
   "execution_count": 1,
   "metadata": {
    "collapsed": true
   },
   "outputs": [
    {
     "ename": "TypeError",
     "evalue": "'type' object is not subscriptable",
     "output_type": "error",
     "traceback": [
      "\u001B[1;31m---------------------------------------------------------------------------\u001B[0m",
      "\u001B[1;31mTypeError\u001B[0m                                 Traceback (most recent call last)",
      "\u001B[1;32m<ipython-input-1-d7871e84b4fa>\u001B[0m in \u001B[0;36m<module>\u001B[1;34m\u001B[0m\n\u001B[0;32m      1\u001B[0m \u001B[1;31m# 第一题两数之和\u001B[0m\u001B[1;33m\u001B[0m\u001B[1;33m\u001B[0m\u001B[1;33m\u001B[0m\u001B[0m\n\u001B[1;32m----> 2\u001B[1;33m \u001B[1;32mclass\u001B[0m \u001B[0mSolution\u001B[0m\u001B[1;33m:\u001B[0m\u001B[1;33m\u001B[0m\u001B[1;33m\u001B[0m\u001B[0m\n\u001B[0m\u001B[0;32m      3\u001B[0m     \u001B[1;32mdef\u001B[0m \u001B[0mtwoSum\u001B[0m\u001B[1;33m(\u001B[0m\u001B[0mself\u001B[0m\u001B[1;33m,\u001B[0m \u001B[0mnums\u001B[0m\u001B[1;33m:\u001B[0m \u001B[0mlist\u001B[0m\u001B[1;33m[\u001B[0m\u001B[0mint\u001B[0m\u001B[1;33m]\u001B[0m\u001B[1;33m,\u001B[0m \u001B[0mtarget\u001B[0m\u001B[1;33m:\u001B[0m \u001B[0mint\u001B[0m\u001B[1;33m)\u001B[0m \u001B[1;33m->\u001B[0m \u001B[0mlist\u001B[0m\u001B[1;33m[\u001B[0m\u001B[0mint\u001B[0m\u001B[1;33m]\u001B[0m\u001B[1;33m:\u001B[0m\u001B[1;33m\u001B[0m\u001B[1;33m\u001B[0m\u001B[0m\n\u001B[0;32m      4\u001B[0m         \u001B[1;31m# 思路：第一层for循环先遇到这个数，然后减去这个数得到target_left\u001B[0m\u001B[1;33m\u001B[0m\u001B[1;33m\u001B[0m\u001B[1;33m\u001B[0m\u001B[0m\n\u001B[0;32m      5\u001B[0m         \u001B[1;31m# 第二层for循环在剩下的数中找到与target_left相等的数就好\u001B[0m\u001B[1;33m\u001B[0m\u001B[1;33m\u001B[0m\u001B[1;33m\u001B[0m\u001B[0m\n",
      "\u001B[1;32m<ipython-input-1-d7871e84b4fa>\u001B[0m in \u001B[0;36mSolution\u001B[1;34m()\u001B[0m\n\u001B[0;32m      1\u001B[0m \u001B[1;31m# 第一题两数之和\u001B[0m\u001B[1;33m\u001B[0m\u001B[1;33m\u001B[0m\u001B[1;33m\u001B[0m\u001B[0m\n\u001B[0;32m      2\u001B[0m \u001B[1;32mclass\u001B[0m \u001B[0mSolution\u001B[0m\u001B[1;33m:\u001B[0m\u001B[1;33m\u001B[0m\u001B[1;33m\u001B[0m\u001B[0m\n\u001B[1;32m----> 3\u001B[1;33m     \u001B[1;32mdef\u001B[0m \u001B[0mtwoSum\u001B[0m\u001B[1;33m(\u001B[0m\u001B[0mself\u001B[0m\u001B[1;33m,\u001B[0m \u001B[0mnums\u001B[0m\u001B[1;33m:\u001B[0m \u001B[0mlist\u001B[0m\u001B[1;33m[\u001B[0m\u001B[0mint\u001B[0m\u001B[1;33m]\u001B[0m\u001B[1;33m,\u001B[0m \u001B[0mtarget\u001B[0m\u001B[1;33m:\u001B[0m \u001B[0mint\u001B[0m\u001B[1;33m)\u001B[0m \u001B[1;33m->\u001B[0m \u001B[0mlist\u001B[0m\u001B[1;33m[\u001B[0m\u001B[0mint\u001B[0m\u001B[1;33m]\u001B[0m\u001B[1;33m:\u001B[0m\u001B[1;33m\u001B[0m\u001B[1;33m\u001B[0m\u001B[0m\n\u001B[0m\u001B[0;32m      4\u001B[0m         \u001B[1;31m# 思路：第一层for循环先遇到这个数，然后减去这个数得到target_left\u001B[0m\u001B[1;33m\u001B[0m\u001B[1;33m\u001B[0m\u001B[1;33m\u001B[0m\u001B[0m\n\u001B[0;32m      5\u001B[0m         \u001B[1;31m# 第二层for循环在剩下的数中找到与target_left相等的数就好\u001B[0m\u001B[1;33m\u001B[0m\u001B[1;33m\u001B[0m\u001B[1;33m\u001B[0m\u001B[0m\n",
      "\u001B[1;31mTypeError\u001B[0m: 'type' object is not subscriptable"
     ]
    }
   ],
   "source": [
    "# 第一题 两数之和\n",
    "class Solution:\n",
    "\n",
    "    def twoSum(self, nums, target):\n",
    "        # 思路：第一层for循环先遇到这个数，然后减去这个数得到target_left\n",
    "        # 第二层for循环在剩下的数中找到与target_left相等的数就好\n",
    "        # 空间复杂度为1 时间复杂度为n2\n",
    "        for i in range(len(nums)):\n",
    "            target_left = target - nums[i]\n",
    "            for j in range(i + 1, len(nums)):\n",
    "                if target_left == nums[j]:\n",
    "                    return [i, j]"
   ]
  },
  {
   "cell_type": "code",
   "execution_count": null,
   "outputs": [
    {
     "ename": "SyntaxError",
     "evalue": "invalid syntax (<ipython-input-1-c3b22ced3897>, line 2)",
     "output_type": "error",
     "traceback": [
      "\u001B[1;36m  File \u001B[1;32m\"<ipython-input-1-c3b22ced3897>\"\u001B[1;36m, line \u001B[1;32m2\u001B[0m\n\u001B[1;33m    Definition for singly-linked list.\u001B[0m\n\u001B[1;37m               ^\u001B[0m\n\u001B[1;31mSyntaxError\u001B[0m\u001B[1;31m:\u001B[0m invalid syntax\n"
     ]
    }
   ],
   "source": [
    "# 第二题 两数相加\n",
    "# Definition\n",
    "# for singly - linked list.\n",
    "\n",
    "class ListNode:\n",
    "    def __init__(self, val=0, next=None):\n",
    "        self.val = val\n",
    "        self.next = next\n",
    "        `\n",
    "\n",
    "\n",
    "class Solution:\n",
    "    def addTwoNumbers(self, l1: ListNode, l2: ListNode) -> ListNode:\n",
    "        # 思路：因为是逆序的我们可以从前加到后（这反而减小了难度），所以关键在于要考虑到进位的问题\n",
    "        # l_sum先指向一个哑节点\n",
    "        head = ListNode()\n",
    "        l_sum = head\n",
    "        carry_bit = 0\n",
    "\n",
    "        # l1和l2同时存在的区域，双链区域\n",
    "        while l1 and l2:\n",
    "            # l1+l2+carry_bit结果，取出本位和进位\n",
    "            carry_bit, this_bit = divmod((l1.val + l2.val + carry_bit), 10)\n",
    "            # l1 l2进行更新\n",
    "            l1 = l1.next\n",
    "            l2 = l2.next\n",
    "            # 本位用于创建结点\n",
    "            l_sum.next = ListNode(val=this_bit)\n",
    "            # l_sum进行更新\n",
    "            l_sum = l_sum.next\n",
    "            # 进位用于下次循环\n",
    "\n",
    "        # 单链区域\n",
    "        while l1:\n",
    "            carry_bit, this_bit = divmod((l1.val + carry_bit), 10)\n",
    "            l1 = l1.next\n",
    "            l_sum.next = ListNode(val=this_bit)\n",
    "            l_sum = l_sum.next\n",
    "        while l2:\n",
    "            carry_bit, this_bit = divmod((l2.val + carry_bit), 10)\n",
    "            l2 = l2.next\n",
    "            l_sum.next = ListNode(val=this_bit)\n",
    "            l_sum = l_sum.next\n",
    "        if carry_bit != 0:\n",
    "            l_sum.next = ListNode(val=carry_bit)\n",
    "\n",
    "        return head.next"
   ],
   "metadata": {
    "collapsed": false,
    "pycharm": {
     "name": "#%%\n"
    }
   }
  },
  {
   "cell_type": "markdown",
   "source": [
    "# 第3题"
   ],
   "metadata": {
    "collapsed": false,
    "pycharm": {
     "name": "#%% md\n"
    }
   }
  },
  {
   "cell_type": "code",
   "execution_count": 2,
   "outputs": [],
   "source": [
    "# 3. 无重复字符的最长子串\n",
    "# 自己想的暴力法\n",
    "class Solution:\n",
    "    def lengthOfLongestSubstring(self, s: str) -> int:\n",
    "        # 思路：还是暴力枚举法：我们先确定子串的开头，从0到len(s)\n",
    "        # 对每个开头，来寻找最长的子串，找到后用max_length来维护\n",
    "        # 然后重新赋值我们的开头\n",
    "\n",
    "        # 特殊情况\n",
    "        if len(s) == 0 or len(s) == 1:\n",
    "            return len(s)\n",
    "\n",
    "        i = 0\n",
    "        max_length = 0\n",
    "        while i < len(s):\n",
    "            # 大循环，i控制子串开始的位置\n",
    "            hash_table = dict()\n",
    "            for j in range(i, len(s)):\n",
    "                # 小循环用于找出最长子串\n",
    "                if s[j] not in hash_table:\n",
    "                    # 存 “字符:位置” 的hash表\n",
    "                    # 这样的好处是，用hash表记住了位置，发生重复后可以从重复位置处开始\n",
    "                    hash_table[s[j]] = j\n",
    "                else:\n",
    "                    # 如果发生重复,让子串从重复位置的下一位开始\n",
    "                    # 先维护max_length\n",
    "                    max_length = max(max_length, len(hash_table))\n",
    "                    i = hash_table[s[j]] + 1\n",
    "                    break\n",
    "            # 最长子串找到了末尾，说明已经完成探索\n",
    "            else:\n",
    "                max_length = max(max_length, len(hash_table))\n",
    "                return max_length"
   ],
   "metadata": {
    "collapsed": false,
    "pycharm": {
     "name": "#%%\n"
    }
   }
  },
  {
   "cell_type": "code",
   "execution_count": null,
   "outputs": [],
   "source": [
    "# 3. 无重复字符的最长子串\n",
    "# 很不错的滑动窗口法\n",
    "class Solution:\n",
    "    def lengthOfLongestSubstring(self, s: str) -> int:\n",
    "        # 思路：滑动窗口，并且这个窗口只会扩大不会缩小\n",
    "        # 为什么？因为我们需要找最大的子串，假如已经存在长度为3的子串，那么后面更短的长度为2或者1的子串，我们就不关心了\n",
    "        # 并且，如果当前长度为max_length，那么就应该拿max_length+1去套下一个\n",
    "        max_length = 0\n",
    "        deque = []\n",
    "        for i in range(len(s)):\n",
    "            deque.append(s[i])\n",
    "            # 如果deque中有重复，那么deque应该pop最左边的元素\n",
    "            if len(deque) != len(set(deque)):\n",
    "                deque.pop(0)\n",
    "            else:\n",
    "                # 如果没有重复，那么max_length就是当前的deque长度\n",
    "                max_length = max(max_length, len(deque))\n",
    "        return max_length\n"
   ],
   "metadata": {
    "collapsed": false,
    "pycharm": {
     "name": "#%%\n"
    }
   }
  }
 ],
 "metadata": {
  "kernelspec": {
   "display_name": "Python 3",
   "language": "python",
   "name": "python3"
  },
  "language_info": {
   "codemirror_mode": {
    "name": "ipython",
    "version": 2
   },
   "file_extension": ".py",
   "mimetype": "text/x-python",
   "name": "python",
   "nbconvert_exporter": "python",
   "pygments_lexer": "ipython2",
   "version": "2.7.6"
  }
 },
 "nbformat": 4,
 "nbformat_minor": 0
}