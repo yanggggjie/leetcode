{
 "cells": [
  {
   "cell_type": "code",
   "execution_count": 1,
   "metadata": {
    "collapsed": true
   },
   "outputs": [
    {
     "ename": "TypeError",
     "evalue": "'type' object is not subscriptable",
     "output_type": "error",
     "traceback": [
      "\u001B[1;31m---------------------------------------------------------------------------\u001B[0m",
      "\u001B[1;31mTypeError\u001B[0m                                 Traceback (most recent call last)",
      "\u001B[1;32m<ipython-input-1-d7871e84b4fa>\u001B[0m in \u001B[0;36m<module>\u001B[1;34m\u001B[0m\n\u001B[0;32m      1\u001B[0m \u001B[1;31m# 第一题两数之和\u001B[0m\u001B[1;33m\u001B[0m\u001B[1;33m\u001B[0m\u001B[1;33m\u001B[0m\u001B[0m\n\u001B[1;32m----> 2\u001B[1;33m \u001B[1;32mclass\u001B[0m \u001B[0mSolution\u001B[0m\u001B[1;33m:\u001B[0m\u001B[1;33m\u001B[0m\u001B[1;33m\u001B[0m\u001B[0m\n\u001B[0m\u001B[0;32m      3\u001B[0m     \u001B[1;32mdef\u001B[0m \u001B[0mtwoSum\u001B[0m\u001B[1;33m(\u001B[0m\u001B[0mself\u001B[0m\u001B[1;33m,\u001B[0m \u001B[0mnums\u001B[0m\u001B[1;33m:\u001B[0m \u001B[0mlist\u001B[0m\u001B[1;33m[\u001B[0m\u001B[0mint\u001B[0m\u001B[1;33m]\u001B[0m\u001B[1;33m,\u001B[0m \u001B[0mtarget\u001B[0m\u001B[1;33m:\u001B[0m \u001B[0mint\u001B[0m\u001B[1;33m)\u001B[0m \u001B[1;33m->\u001B[0m \u001B[0mlist\u001B[0m\u001B[1;33m[\u001B[0m\u001B[0mint\u001B[0m\u001B[1;33m]\u001B[0m\u001B[1;33m:\u001B[0m\u001B[1;33m\u001B[0m\u001B[1;33m\u001B[0m\u001B[0m\n\u001B[0;32m      4\u001B[0m         \u001B[1;31m# 思路：第一层for循环先遇到这个数，然后减去这个数得到target_left\u001B[0m\u001B[1;33m\u001B[0m\u001B[1;33m\u001B[0m\u001B[1;33m\u001B[0m\u001B[0m\n\u001B[0;32m      5\u001B[0m         \u001B[1;31m# 第二层for循环在剩下的数中找到与target_left相等的数就好\u001B[0m\u001B[1;33m\u001B[0m\u001B[1;33m\u001B[0m\u001B[1;33m\u001B[0m\u001B[0m\n",
      "\u001B[1;32m<ipython-input-1-d7871e84b4fa>\u001B[0m in \u001B[0;36mSolution\u001B[1;34m()\u001B[0m\n\u001B[0;32m      1\u001B[0m \u001B[1;31m# 第一题两数之和\u001B[0m\u001B[1;33m\u001B[0m\u001B[1;33m\u001B[0m\u001B[1;33m\u001B[0m\u001B[0m\n\u001B[0;32m      2\u001B[0m \u001B[1;32mclass\u001B[0m \u001B[0mSolution\u001B[0m\u001B[1;33m:\u001B[0m\u001B[1;33m\u001B[0m\u001B[1;33m\u001B[0m\u001B[0m\n\u001B[1;32m----> 3\u001B[1;33m     \u001B[1;32mdef\u001B[0m \u001B[0mtwoSum\u001B[0m\u001B[1;33m(\u001B[0m\u001B[0mself\u001B[0m\u001B[1;33m,\u001B[0m \u001B[0mnums\u001B[0m\u001B[1;33m:\u001B[0m \u001B[0mlist\u001B[0m\u001B[1;33m[\u001B[0m\u001B[0mint\u001B[0m\u001B[1;33m]\u001B[0m\u001B[1;33m,\u001B[0m \u001B[0mtarget\u001B[0m\u001B[1;33m:\u001B[0m \u001B[0mint\u001B[0m\u001B[1;33m)\u001B[0m \u001B[1;33m->\u001B[0m \u001B[0mlist\u001B[0m\u001B[1;33m[\u001B[0m\u001B[0mint\u001B[0m\u001B[1;33m]\u001B[0m\u001B[1;33m:\u001B[0m\u001B[1;33m\u001B[0m\u001B[1;33m\u001B[0m\u001B[0m\n\u001B[0m\u001B[0;32m      4\u001B[0m         \u001B[1;31m# 思路：第一层for循环先遇到这个数，然后减去这个数得到target_left\u001B[0m\u001B[1;33m\u001B[0m\u001B[1;33m\u001B[0m\u001B[1;33m\u001B[0m\u001B[0m\n\u001B[0;32m      5\u001B[0m         \u001B[1;31m# 第二层for循环在剩下的数中找到与target_left相等的数就好\u001B[0m\u001B[1;33m\u001B[0m\u001B[1;33m\u001B[0m\u001B[1;33m\u001B[0m\u001B[0m\n",
      "\u001B[1;31mTypeError\u001B[0m: 'type' object is not subscriptable"
     ]
    }
   ],
   "source": [
    "# 第一题 两数之和\n",
    "class Solution:\n",
    "\n",
    "    def twoSum(self, nums, target):\n",
    "        # 思路：第一层for循环先遇到这个数，然后减去这个数得到target_left\n",
    "        # 第二层for循环在剩下的数中找到与target_left相等的数就好\n",
    "        # 空间复杂度为1 时间复杂度为n2\n",
    "        for i in range(len(nums)):\n",
    "            target_left = target - nums[i]\n",
    "            for j in range(i + 1, len(nums)):\n",
    "                if target_left == nums[j]:\n",
    "                    return [i, j]"
   ]
  },
  {
   "cell_type": "code",
   "execution_count": null,
   "outputs": [
    {
     "ename": "SyntaxError",
     "evalue": "invalid syntax (<ipython-input-1-c3b22ced3897>, line 2)",
     "output_type": "error",
     "traceback": [
      "\u001B[1;36m  File \u001B[1;32m\"<ipython-input-1-c3b22ced3897>\"\u001B[1;36m, line \u001B[1;32m2\u001B[0m\n\u001B[1;33m    Definition for singly-linked list.\u001B[0m\n\u001B[1;37m               ^\u001B[0m\n\u001B[1;31mSyntaxError\u001B[0m\u001B[1;31m:\u001B[0m invalid syntax\n"
     ]
    }
   ],
   "source": [
    "# 第二题 两数相加\n",
    "# Definition\n",
    "# for singly - linked list.\n",
    "\n",
    "class ListNode:\n",
    "    def __init__(self, val=0, next=None):\n",
    "        self.val = val\n",
    "        self.next = next\n",
    "\n",
    "\n",
    "class Solution:\n",
    "    def addTwoNumbers(self, l1: ListNode, l2: ListNode) -> ListNode:\n",
    "        # 思路：因为是逆序的我们可以从前加到后（这反而减小了难度），所以关键在于要考虑到进位的问题\n",
    "        # l_sum先指向一个哑节点\n",
    "        head = ListNode()\n",
    "        l_sum = head\n",
    "        carry_bit = 0\n",
    "\n",
    "        # l1和l2同时存在的区域，双链区域\n",
    "        while l1 and l2:\n",
    "            # l1+l2+carry_bit结果，取出本位和进位\n",
    "            carry_bit, this_bit = divmod((l1.val + l2.val + carry_bit), 10)\n",
    "            # l1 l2进行更新\n",
    "            l1 = l1.next\n",
    "            l2 = l2.next\n",
    "            # 本位用于创建结点\n",
    "            l_sum.next = ListNode(val=this_bit)\n",
    "            # l_sum进行更新\n",
    "            l_sum = l_sum.next\n",
    "            # 进位用于下次循环\n",
    "\n",
    "        # 单链区域\n",
    "        while l1:\n",
    "            carry_bit, this_bit = divmod((l1.val + carry_bit), 10)\n",
    "            l1 = l1.next\n",
    "            l_sum.next = ListNode(val=this_bit)\n",
    "            l_sum = l_sum.next\n",
    "        while l2:\n",
    "            carry_bit, this_bit = divmod((l2.val + carry_bit), 10)\n",
    "            l2 = l2.next\n",
    "            l_sum.next = ListNode(val=this_bit)\n",
    "            l_sum = l_sum.next\n",
    "        if carry_bit != 0:\n",
    "            l_sum.next = ListNode(val=carry_bit)\n",
    "\n",
    "        return head.next"
   ],
   "metadata": {
    "collapsed": false,
    "pycharm": {
     "name": "#%%\n"
    }
   }
  },
  {
   "cell_type": "markdown",
   "source": [
    "# 第3题"
   ],
   "metadata": {
    "collapsed": false,
    "pycharm": {
     "name": "#%% md\n"
    }
   }
  },
  {
   "cell_type": "code",
   "execution_count": 2,
   "outputs": [],
   "source": [
    "# 3. 无重复字符的最长子串\n",
    "# 自己想的暴力法\n",
    "class Solution:\n",
    "    def lengthOfLongestSubstring(self, s: str) -> int:\n",
    "        # 思路：还是暴力枚举法：我们先确定子串的开头，从0到len(s)\n",
    "        # 对每个开头，来寻找最长的子串，找到后用max_length来维护\n",
    "        # 然后重新赋值我们的开头\n",
    "\n",
    "        # 特殊情况\n",
    "        if len(s) == 0 or len(s) == 1:\n",
    "            return len(s)\n",
    "\n",
    "        i = 0\n",
    "        max_length = 0\n",
    "        while i < len(s):\n",
    "            # 大循环，i控制子串开始的位置\n",
    "            hash_table = dict()\n",
    "            for j in range(i, len(s)):\n",
    "                # 小循环用于找出最长子串\n",
    "                if s[j] not in hash_table:\n",
    "                    # 存 “字符:位置” 的hash表\n",
    "                    # 这样的好处是，用hash表记住了位置，发生重复后可以从重复位置处开始\n",
    "                    hash_table[s[j]] = j\n",
    "                else:\n",
    "                    # 如果发生重复,让子串从重复位置的下一位开始\n",
    "                    # 先维护max_length\n",
    "                    max_length = max(max_length, len(hash_table))\n",
    "                    i = hash_table[s[j]] + 1\n",
    "                    break\n",
    "            # 最长子串找到了末尾，说明已经完成探索\n",
    "            else:\n",
    "                max_length = max(max_length, len(hash_table))\n",
    "                return max_length"
   ],
   "metadata": {
    "collapsed": false,
    "pycharm": {
     "name": "#%%\n"
    }
   }
  },
  {
   "cell_type": "code",
   "execution_count": 5,
   "outputs": [],
   "source": [
    "# 3. 无重复字符的最长子串\n",
    "# 很不错的滑动窗口法\n",
    "class Solution:\n",
    "    def lengthOfLongestSubstring(self, s: str) -> int:\n",
    "        # 思路：滑动窗口，并且这个窗口只会扩大不会缩小\n",
    "        # 为什么？因为我们需要找最大的子串，假如已经存在长度为3的子串，那么后面更短的长度为2或者1的子串，我们就不关心了\n",
    "        # 并且，如果当前长度为max_length，那么就应该拿max_length+1去套下一个\n",
    "        max_length = 0\n",
    "        deque = []\n",
    "        for i in range(len(s)):\n",
    "            deque.append(s[i])\n",
    "            # 如果deque中有重复，那么deque应该pop最左边的元素\n",
    "            if len(deque) != len(set(deque)):\n",
    "                deque.pop(0)\n",
    "            else:\n",
    "                # 如果没有重复，那么max_length就是当前的deque长度\n",
    "                max_length = max(max_length, len(deque))\n",
    "        return max_length"
   ],
   "metadata": {
    "collapsed": false,
    "pycharm": {
     "name": "#%%\n"
    }
   }
  },
  {
   "cell_type": "markdown",
   "source": [
    "# 滑动窗口专题"
   ],
   "metadata": {
    "collapsed": false,
    "pycharm": {
     "name": "#%% md\n"
    }
   }
  },
  {
   "cell_type": "code",
   "execution_count": null,
   "outputs": [],
   "source": [
    "# 30. 串联所有单词的子串\n",
    "class Solution:\n",
    "    def findSubstring(self, s: str, words: List[str]) -> List[int]:\n",
    "        # 因为words里的每个单词长度都相同，那么我们可以用len(word)长的滑动串口，来遍历这个字符串\n",
    "        # 如果是word 那么记录 word:index 的字典，如果不是则按位向前移动\n",
    "        # 找出wind_length\n",
    "        wind_length = len(words[0])\n",
    "        # 遍历这个字符串\n",
    "        i = 0\n",
    "        dt = dict()\n",
    "        while i < (len(s) - wind_length):\n",
    "            # 如果是单词的话,就往前跳wind_length长度\n",
    "            word = s[i:i + wind_length]\n",
    "            if word in words:\n",
    "                # 记录 word:index\n",
    "                dt[word] = dt.get(word, []).append(i)\n",
    "                i += wind_length\n",
    "            else:\n",
    "                i += 1\n",
    "        print(dt)\n"
   ],
   "metadata": {
    "collapsed": false,
    "pycharm": {
     "name": "#%%\n"
    }
   }
  },
  {
   "cell_type": "code",
   "execution_count": null,
   "outputs": [],
   "source": [
    "# 4.寻找两个正序数组的中位数\n",
    "class Solution:\n",
    "    def findMedianSortedArrays(self, nums1: List[int], nums2: List[int]) -> float:\n",
    "        # 暴力法，先合并两个数组，然后再进行找中位数\n",
    "        # 合并2个升序数组\n",
    "        # 用指针，谁小就先合并谁\n",
    "        nums = []\n",
    "        ptr1 = 0\n",
    "        ptr2 = 0\n",
    "        # 双链部分\n",
    "        while ptr1 < len(nums1) and ptr2 < len(nums2):\n",
    "            if nums1[ptr1] > nums2[ptr2]:\n",
    "                nums.append(nums2[ptr2])\n",
    "                ptr2 += 1\n",
    "            else:\n",
    "                nums.append(nums1[ptr1])\n",
    "                ptr1 += 1\n",
    "        # 单链部分\n",
    "        if ptr1 == len(nums1):\n",
    "            nums += nums2[ptr2:]\n",
    "        else:\n",
    "            nums += nums1[ptr1:]\n",
    "\n",
    "        def mid_num(ls):\n",
    "            n = len(ls)\n",
    "            if n % 2 == 0:\n",
    "                return (ls[n // 2 - 1] + ls[n // 2]) / 2\n",
    "            else:\n",
    "                return ls[n // 2]\n",
    "\n",
    "        return mid_num(nums)"
   ],
   "metadata": {
    "collapsed": false,
    "pycharm": {
     "name": "#%%\n"
    }
   }
  },
  {
   "cell_type": "code",
   "execution_count": 2,
   "outputs": [
    {
     "name": "stdout",
     "output_type": "stream",
     "text": [
      "bb\n"
     ]
    }
   ],
   "source": [
    "# 5. 最长回文子串\n",
    "class Solution:\n",
    "    def longestPalindrome(self, s: str) -> str:\n",
    "        # 思路：仍然是暴力算法，求最长的回文子串，我们可以从长遍历到短，找到了就break\n",
    "        # 所以是一个按长度遍历子串的问题\n",
    "\n",
    "        # 特殊情况\n",
    "        if len(s) == 1 or len(s) == 0:\n",
    "            return s\n",
    "\n",
    "        def is_huiwen(s):\n",
    "            return s == s[::-1]\n",
    "\n",
    "        # 从长到短，找到回文串就return\n",
    "        sub_str_len = len(s)\n",
    "        while sub_str_len >= 1:\n",
    "            i = 0\n",
    "            while (i + sub_str_len) <= len(s):\n",
    "                if is_huiwen(s[i:i + sub_str_len]):\n",
    "                    return s[i:i + sub_str_len]\n",
    "                i += 1\n",
    "            sub_str_len -= 1"
   ],
   "metadata": {
    "collapsed": false,
    "pycharm": {
     "name": "#%%\n"
    }
   }
  },
  {
   "cell_type": "code",
   "execution_count": 41,
   "outputs": [
    {
     "name": "stdout",
     "output_type": "stream",
     "text": [
      "0\n",
      "b\n",
      "1\n",
      "bab\n",
      "2\n",
      "aba\n",
      "3\n",
      "a\n"
     ]
    },
    {
     "ename": "IndexError",
     "evalue": "string index out of range",
     "output_type": "error",
     "traceback": [
      "\u001B[1;31m---------------------------------------------------------------------------\u001B[0m",
      "\u001B[1;31mIndexError\u001B[0m                                Traceback (most recent call last)",
      "\u001B[1;32m<ipython-input-41-2490533f5884>\u001B[0m in \u001B[0;36m<module>\u001B[1;34m\u001B[0m\n\u001B[0;32m     34\u001B[0m \u001B[1;33m\u001B[0m\u001B[0m\n\u001B[0;32m     35\u001B[0m \u001B[0ms\u001B[0m \u001B[1;33m=\u001B[0m \u001B[0mSolution\u001B[0m\u001B[1;33m(\u001B[0m\u001B[1;33m)\u001B[0m\u001B[1;33m\u001B[0m\u001B[1;33m\u001B[0m\u001B[0m\n\u001B[1;32m---> 36\u001B[1;33m \u001B[0ms\u001B[0m\u001B[1;33m.\u001B[0m\u001B[0mlongestPalindrome\u001B[0m\u001B[1;33m(\u001B[0m\u001B[1;34m\"babad\"\u001B[0m\u001B[1;33m)\u001B[0m\u001B[1;33m\u001B[0m\u001B[1;33m\u001B[0m\u001B[0m\n\u001B[0m",
      "\u001B[1;32m<ipython-input-41-2490533f5884>\u001B[0m in \u001B[0;36mlongestPalindrome\u001B[1;34m(self, s)\u001B[0m\n\u001B[0;32m     15\u001B[0m                 \u001B[0mleft\u001B[0m \u001B[1;33m-=\u001B[0m \u001B[1;36m1\u001B[0m\u001B[1;33m\u001B[0m\u001B[1;33m\u001B[0m\u001B[0m\n\u001B[0;32m     16\u001B[0m \u001B[1;33m\u001B[0m\u001B[0m\n\u001B[1;32m---> 17\u001B[1;33m             \u001B[1;32mif\u001B[0m \u001B[0ms\u001B[0m\u001B[1;33m[\u001B[0m\u001B[0mright\u001B[0m\u001B[1;33m]\u001B[0m \u001B[1;33m==\u001B[0m \u001B[0ms\u001B[0m\u001B[1;33m[\u001B[0m\u001B[0mi\u001B[0m\u001B[1;33m]\u001B[0m\u001B[1;33m:\u001B[0m\u001B[1;33m\u001B[0m\u001B[1;33m\u001B[0m\u001B[0m\n\u001B[0m\u001B[0;32m     18\u001B[0m                 \u001B[0mright\u001B[0m \u001B[1;33m+=\u001B[0m \u001B[1;36m1\u001B[0m\u001B[1;33m\u001B[0m\u001B[1;33m\u001B[0m\u001B[0m\n\u001B[0;32m     19\u001B[0m \u001B[1;33m\u001B[0m\u001B[0m\n",
      "\u001B[1;31mIndexError\u001B[0m: string index out of range"
     ]
    }
   ],
   "source": [
    "# 5. 最长回文子串\n",
    "# TODO 2021年10月14日 10点26分 没有debug出来\n",
    "\n",
    "class Solution:\n",
    "    def longestPalindrome(self, s: str) -> str:\n",
    "        # 思路：中心扩散法，先确定中心，然后向两端扩散。中心元素为cent，左边为left，右边为right：1.如果left==right那么左右扩散一位。这个只能进行一次，如果left==cent左边扩散，如果right==cent右边扩散，如果都不是那么就不是回文。\n",
    "        # 每个位置都可以当中心\n",
    "        max_length = 0\n",
    "        max_huiwen = \"\"\n",
    "        # 遍历每个位置\n",
    "        for i in range(len(s)):\n",
    "            # 进行中心扩散\n",
    "            left = i - 1\n",
    "            right = i + 1\n",
    "\n",
    "            if s[left] == s[i]:\n",
    "                left -= 1\n",
    "\n",
    "            if s[right] == s[i]:\n",
    "                right += 1\n",
    "\n",
    "            while left >= 0 and right < len(s):\n",
    "                if s[left] == s[right]:\n",
    "                    left -= 1\n",
    "                    right += 1\n",
    "\n",
    "                else:\n",
    "                    break\n",
    "            print(i)\n",
    "            print(s[left + 1:right])\n",
    "            if len(s[left + 1:right]) > max_length:\n",
    "                max_length = len(s[left + 1:right])\n",
    "                max_huiwen = s[left + 1:right]\n",
    "        return max_huiwen\n",
    "\n",
    "\n",
    "s = Solution()\n",
    "s.longestPalindrome(\"babad\")"
   ],
   "metadata": {
    "collapsed": false,
    "pycharm": {
     "name": "#%%\n"
    }
   }
  }
 ],
 "metadata": {
  "kernelspec": {
   "display_name": "Python 3",
   "language": "python",
   "name": "python3"
  },
  "language_info": {
   "codemirror_mode": {
    "name": "ipython",
    "version": 2
   },
   "file_extension": ".py",
   "mimetype": "text/x-python",
   "name": "python",
   "nbconvert_exporter": "python",
   "pygments_lexer": "ipython2",
   "version": "2.7.6"
  }
 },
 "nbformat": 4,
 "nbformat_minor": 0
}